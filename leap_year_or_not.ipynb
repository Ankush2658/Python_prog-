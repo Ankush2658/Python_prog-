{
 "cells": [
  {
   "cell_type": "code",
   "execution_count": 3,
   "metadata": {},
   "outputs": [
    {
     "name": "stdout",
     "output_type": "stream",
     "text": [
      "enter any year :=>2019\n",
      "{0} is not leap year 2019\n"
     ]
    }
   ],
   "source": [
    "year = int(input(\"enter any year :=>\"))\n",
    "if(year%4)==0:\n",
    "    if(year%100)==0:\n",
    "        if(year%400)==0:\n",
    "            print(\"{0} is a leap year\",format(year))\n",
    "        else:\n",
    "            print(\"{0} is not leap year\",format(year))\n",
    "    else:\n",
    "        print(\"{0} is leap year\",format(year))\n",
    "else:\n",
    "    print(\"{0} is not leap year\",format(year))"
   ]
  }
 ],
 "metadata": {
  "kernelspec": {
   "display_name": "Python 3",
   "language": "python",
   "name": "python3"
  },
  "language_info": {
   "codemirror_mode": {
    "name": "ipython",
    "version": 3
   },
   "file_extension": ".py",
   "mimetype": "text/x-python",
   "name": "python",
   "nbconvert_exporter": "python",
   "pygments_lexer": "ipython3",
   "version": "3.7.4"
  }
 },
 "nbformat": 4,
 "nbformat_minor": 2
}
